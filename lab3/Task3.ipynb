{
 "cells": [
  {
   "cell_type": "code",
   "execution_count": 45,
   "metadata": {},
   "outputs": [
    {
     "data": {
      "text/html": [
       "<div>\n",
       "<style scoped>\n",
       "    .dataframe tbody tr th:only-of-type {\n",
       "        vertical-align: middle;\n",
       "    }\n",
       "\n",
       "    .dataframe tbody tr th {\n",
       "        vertical-align: top;\n",
       "    }\n",
       "\n",
       "    .dataframe thead th {\n",
       "        text-align: right;\n",
       "    }\n",
       "</style>\n",
       "<table border=\"1\" class=\"dataframe\">\n",
       "  <thead>\n",
       "    <tr style=\"text-align: right;\">\n",
       "      <th></th>\n",
       "      <th>Open</th>\n",
       "      <th>High</th>\n",
       "      <th>Low</th>\n",
       "      <th>Close</th>\n",
       "      <th>Adj Close</th>\n",
       "      <th>Volume</th>\n",
       "    </tr>\n",
       "    <tr>\n",
       "      <th>Date</th>\n",
       "      <th></th>\n",
       "      <th></th>\n",
       "      <th></th>\n",
       "      <th></th>\n",
       "      <th></th>\n",
       "      <th></th>\n",
       "    </tr>\n",
       "  </thead>\n",
       "  <tbody>\n",
       "    <tr>\n",
       "      <th>1962-01-03</th>\n",
       "      <td>7.291268</td>\n",
       "      <td>7.355003</td>\n",
       "      <td>7.291268</td>\n",
       "      <td>7.355003</td>\n",
       "      <td>1.641101</td>\n",
       "      <td>305955</td>\n",
       "    </tr>\n",
       "    <tr>\n",
       "      <th>1962-01-04</th>\n",
       "      <td>7.355003</td>\n",
       "      <td>7.355003</td>\n",
       "      <td>7.278521</td>\n",
       "      <td>7.281708</td>\n",
       "      <td>1.624746</td>\n",
       "      <td>274575</td>\n",
       "    </tr>\n",
       "    <tr>\n",
       "      <th>1962-01-05</th>\n",
       "      <td>7.272148</td>\n",
       "      <td>7.272148</td>\n",
       "      <td>7.125558</td>\n",
       "      <td>7.138305</td>\n",
       "      <td>1.592751</td>\n",
       "      <td>384405</td>\n",
       "    </tr>\n",
       "    <tr>\n",
       "      <th>1962-01-08</th>\n",
       "      <td>7.131931</td>\n",
       "      <td>7.131931</td>\n",
       "      <td>6.947100</td>\n",
       "      <td>7.004461</td>\n",
       "      <td>1.562885</td>\n",
       "      <td>572685</td>\n",
       "    </tr>\n",
       "    <tr>\n",
       "      <th>1962-01-09</th>\n",
       "      <td>7.036329</td>\n",
       "      <td>7.176546</td>\n",
       "      <td>7.036329</td>\n",
       "      <td>7.087317</td>\n",
       "      <td>1.581373</td>\n",
       "      <td>517770</td>\n",
       "    </tr>\n",
       "    <tr>\n",
       "      <th>1962-01-10</th>\n",
       "      <td>7.100064</td>\n",
       "      <td>7.131931</td>\n",
       "      <td>7.100064</td>\n",
       "      <td>7.100064</td>\n",
       "      <td>1.584218</td>\n",
       "      <td>313800</td>\n",
       "    </tr>\n",
       "    <tr>\n",
       "      <th>1962-01-11</th>\n",
       "      <td>7.119184</td>\n",
       "      <td>7.176546</td>\n",
       "      <td>7.119184</td>\n",
       "      <td>7.176546</td>\n",
       "      <td>1.601283</td>\n",
       "      <td>337335</td>\n",
       "    </tr>\n",
       "    <tr>\n",
       "      <th>1962-01-12</th>\n",
       "      <td>7.189293</td>\n",
       "      <td>7.240280</td>\n",
       "      <td>7.189293</td>\n",
       "      <td>7.189293</td>\n",
       "      <td>1.604128</td>\n",
       "      <td>462855</td>\n",
       "    </tr>\n",
       "    <tr>\n",
       "      <th>1962-01-15</th>\n",
       "      <td>7.214786</td>\n",
       "      <td>7.237094</td>\n",
       "      <td>7.214786</td>\n",
       "      <td>7.221160</td>\n",
       "      <td>1.611236</td>\n",
       "      <td>266730</td>\n",
       "    </tr>\n",
       "    <tr>\n",
       "      <th>1962-01-16</th>\n",
       "      <td>7.214786</td>\n",
       "      <td>7.214786</td>\n",
       "      <td>7.144678</td>\n",
       "      <td>7.144678</td>\n",
       "      <td>1.594172</td>\n",
       "      <td>266730</td>\n",
       "    </tr>\n",
       "  </tbody>\n",
       "</table>\n",
       "</div>"
      ],
      "text/plain": [
       "                Open      High       Low     Close  Adj Close  Volume\n",
       "Date                                                                 \n",
       "1962-01-03  7.291268  7.355003  7.291268  7.355003   1.641101  305955\n",
       "1962-01-04  7.355003  7.355003  7.278521  7.281708   1.624746  274575\n",
       "1962-01-05  7.272148  7.272148  7.125558  7.138305   1.592751  384405\n",
       "1962-01-08  7.131931  7.131931  6.947100  7.004461   1.562885  572685\n",
       "1962-01-09  7.036329  7.176546  7.036329  7.087317   1.581373  517770\n",
       "1962-01-10  7.100064  7.131931  7.100064  7.100064   1.584218  313800\n",
       "1962-01-11  7.119184  7.176546  7.119184  7.176546   1.601283  337335\n",
       "1962-01-12  7.189293  7.240280  7.189293  7.189293   1.604128  462855\n",
       "1962-01-15  7.214786  7.237094  7.214786  7.221160   1.611236  266730\n",
       "1962-01-16  7.214786  7.214786  7.144678  7.144678   1.594172  266730"
      ]
     },
     "execution_count": 45,
     "metadata": {},
     "output_type": "execute_result"
    }
   ],
   "source": [
    "import pandas as pd\n",
    "from datetime import datetime\n",
    "\n",
    "df = pd.read_csv(\"IBM.csv\")\n",
    "df.set_index(\"Date\", inplace=True)\n",
    "df.index = pd.to_datetime(df.index, format=\"%Y-%m-%d\")\n",
    "df.head(10)"
   ]
  },
  {
   "cell_type": "code",
   "execution_count": 46,
   "metadata": {},
   "outputs": [
    {
     "data": {
      "text/plain": [
       "<matplotlib.axes._subplots.AxesSubplot at 0x7f6e5c6e6e48>"
      ]
     },
     "execution_count": 46,
     "metadata": {},
     "output_type": "execute_result"
    },
    {
     "data": {
      "image/png": "[encoded data removed]",
      "text/plain": [
       "<Figure size 432x288 with 1 Axes>"
      ]
     },
     "metadata": {
      "needs_background": "light"
     },
     "output_type": "display_data"
    }
   ],
   "source": [
    "df.plot(y=\"Close\")"
   ]
  },
  {
   "cell_type": "code",
   "execution_count": 60,
   "metadata": {
    "scrolled": true
   },
   "outputs": [
    {
     "data": {
      "text/plain": [
       "<matplotlib.axes._subplots.AxesSubplot at 0x7f6e5c548400>"
      ]
     },
     "execution_count": 60,
     "metadata": {},
     "output_type": "execute_result"
    },
    {
     "data": {
      "image/png": "[encoded data removed]",
      "text/plain": [
       "<Figure size 432x288 with 1 Axes>"
      ]
     },
     "metadata": {
      "needs_background": "light"
     },
     "output_type": "display_data"
    }
   ],
   "source": [
    "filtered_df = df[datetime(1998,10,8):datetime(1998,11,29)]\n",
    "filtered_df.plot(y=\"Close\")"
   ]
  },
  {
   "cell_type": "code",
   "execution_count": 62,
   "metadata": {},
   "outputs": [
    {
     "data": {
      "text/html": [
       "<div>\n",
       "<style scoped>\n",
       "    .dataframe tbody tr th:only-of-type {\n",
       "        vertical-align: middle;\n",
       "    }\n",
       "\n",
       "    .dataframe tbody tr th {\n",
       "        vertical-align: top;\n",
       "    }\n",
       "\n",
       "    .dataframe thead th {\n",
       "        text-align: right;\n",
       "    }\n",
       "</style>\n",
       "<table border=\"1\" class=\"dataframe\">\n",
       "  <thead>\n",
       "    <tr style=\"text-align: right;\">\n",
       "      <th></th>\n",
       "      <th>Open</th>\n",
       "      <th>High</th>\n",
       "      <th>Low</th>\n",
       "      <th>Close</th>\n",
       "      <th>Adj Close</th>\n",
       "      <th>Volume</th>\n",
       "    </tr>\n",
       "  </thead>\n",
       "  <tbody>\n",
       "    <tr>\n",
       "      <th>count</th>\n",
       "      <td>36.000000</td>\n",
       "      <td>36.000000</td>\n",
       "      <td>36.000000</td>\n",
       "      <td>36.000000</td>\n",
       "      <td>36.000000</td>\n",
       "      <td>3.600000e+01</td>\n",
       "    </tr>\n",
       "    <tr>\n",
       "      <th>mean</th>\n",
       "      <td>70.289263</td>\n",
       "      <td>71.441968</td>\n",
       "      <td>69.721625</td>\n",
       "      <td>70.812088</td>\n",
       "      <td>41.234588</td>\n",
       "      <td>9.074457e+06</td>\n",
       "    </tr>\n",
       "    <tr>\n",
       "      <th>std</th>\n",
       "      <td>5.809423</td>\n",
       "      <td>5.641370</td>\n",
       "      <td>6.044440</td>\n",
       "      <td>5.748080</td>\n",
       "      <td>3.373281</td>\n",
       "      <td>3.242194e+06</td>\n",
       "    </tr>\n",
       "    <tr>\n",
       "      <th>min</th>\n",
       "      <td>57.719887</td>\n",
       "      <td>59.034416</td>\n",
       "      <td>55.837715</td>\n",
       "      <td>59.034416</td>\n",
       "      <td>34.352482</td>\n",
       "      <td>2.797004e+06</td>\n",
       "    </tr>\n",
       "    <tr>\n",
       "      <th>25%</th>\n",
       "      <td>66.966423</td>\n",
       "      <td>68.445271</td>\n",
       "      <td>66.144838</td>\n",
       "      <td>67.407090</td>\n",
       "      <td>39.224593</td>\n",
       "      <td>7.104380e+06</td>\n",
       "    </tr>\n",
       "    <tr>\n",
       "      <th>50%</th>\n",
       "      <td>70.969764</td>\n",
       "      <td>71.567279</td>\n",
       "      <td>70.312500</td>\n",
       "      <td>70.954826</td>\n",
       "      <td>41.289043</td>\n",
       "      <td>8.388292e+06</td>\n",
       "    </tr>\n",
       "    <tr>\n",
       "      <th>75%</th>\n",
       "      <td>75.174770</td>\n",
       "      <td>76.310051</td>\n",
       "      <td>74.988049</td>\n",
       "      <td>75.481000</td>\n",
       "      <td>43.990793</td>\n",
       "      <td>1.063944e+07</td>\n",
       "    </tr>\n",
       "    <tr>\n",
       "      <th>max</th>\n",
       "      <td>79.648659</td>\n",
       "      <td>81.351578</td>\n",
       "      <td>79.648659</td>\n",
       "      <td>81.261948</td>\n",
       "      <td>47.359982</td>\n",
       "      <td>1.915498e+07</td>\n",
       "    </tr>\n",
       "  </tbody>\n",
       "</table>\n",
       "</div>"
      ],
      "text/plain": [
       "            Open       High        Low      Close  Adj Close        Volume\n",
       "count  36.000000  36.000000  36.000000  36.000000  36.000000  3.600000e+01\n",
       "mean   70.289263  71.441968  69.721625  70.812088  41.234588  9.074457e+06\n",
       "std     5.809423   5.641370   6.044440   5.748080   3.373281  3.242194e+06\n",
       "min    57.719887  59.034416  55.837715  59.034416  34.352482  2.797004e+06\n",
       "25%    66.966423  68.445271  66.144838  67.407090  39.224593  7.104380e+06\n",
       "50%    70.969764  71.567279  70.312500  70.954826  41.289043  8.388292e+06\n",
       "75%    75.174770  76.310051  74.988049  75.481000  43.990793  1.063944e+07\n",
       "max    79.648659  81.351578  79.648659  81.261948  47.359982  1.915498e+07"
      ]
     },
     "execution_count": 62,
     "metadata": {},
     "output_type": "execute_result"
    }
   ],
   "source": [
    "filtered_df.describe()"
   ]
  },
  {
   "cell_type": "code",
   "execution_count": 66,
   "metadata": {},
   "outputs": [
    {
     "data": {
      "text/html": [
       "<div>\n",
       "<style scoped>\n",
       "    .dataframe tbody tr th:only-of-type {\n",
       "        vertical-align: middle;\n",
       "    }\n",
       "\n",
       "    .dataframe tbody tr th {\n",
       "        vertical-align: top;\n",
       "    }\n",
       "\n",
       "    .dataframe thead th {\n",
       "        text-align: right;\n",
       "    }\n",
       "</style>\n",
       "<table border=\"1\" class=\"dataframe\">\n",
       "  <thead>\n",
       "    <tr style=\"text-align: right;\">\n",
       "      <th></th>\n",
       "      <th>Open</th>\n",
       "      <th>High</th>\n",
       "      <th>Low</th>\n",
       "      <th>Close</th>\n",
       "      <th>Adj Close</th>\n",
       "      <th>Volume</th>\n",
       "    </tr>\n",
       "  </thead>\n",
       "  <tbody>\n",
       "    <tr>\n",
       "      <th>count</th>\n",
       "      <td>37.000000</td>\n",
       "      <td>37.000000</td>\n",
       "      <td>37.000000</td>\n",
       "      <td>37.000000</td>\n",
       "      <td>37.000000</td>\n",
       "      <td>3.700000e+01</td>\n",
       "    </tr>\n",
       "    <tr>\n",
       "      <th>mean</th>\n",
       "      <td>70.522841</td>\n",
       "      <td>71.667808</td>\n",
       "      <td>69.960855</td>\n",
       "      <td>71.052529</td>\n",
       "      <td>41.375668</td>\n",
       "      <td>8.940513e+06</td>\n",
       "    </tr>\n",
       "    <tr>\n",
       "      <th>std</th>\n",
       "      <td>5.901744</td>\n",
       "      <td>5.729586</td>\n",
       "      <td>6.134976</td>\n",
       "      <td>5.853348</td>\n",
       "      <td>3.435021</td>\n",
       "      <td>3.299037e+06</td>\n",
       "    </tr>\n",
       "    <tr>\n",
       "      <th>min</th>\n",
       "      <td>57.719887</td>\n",
       "      <td>59.034416</td>\n",
       "      <td>55.837715</td>\n",
       "      <td>59.034416</td>\n",
       "      <td>34.352482</td>\n",
       "      <td>2.797004e+06</td>\n",
       "    </tr>\n",
       "    <tr>\n",
       "      <th>25%</th>\n",
       "      <td>66.981361</td>\n",
       "      <td>68.564774</td>\n",
       "      <td>66.443596</td>\n",
       "      <td>67.668503</td>\n",
       "      <td>39.376709</td>\n",
       "      <td>6.947323e+06</td>\n",
       "    </tr>\n",
       "    <tr>\n",
       "      <th>50%</th>\n",
       "      <td>70.984703</td>\n",
       "      <td>71.582214</td>\n",
       "      <td>70.357315</td>\n",
       "      <td>70.984703</td>\n",
       "      <td>41.306427</td>\n",
       "      <td>8.207125e+06</td>\n",
       "    </tr>\n",
       "    <tr>\n",
       "      <th>75%</th>\n",
       "      <td>75.555687</td>\n",
       "      <td>76.332458</td>\n",
       "      <td>75.346558</td>\n",
       "      <td>75.525810</td>\n",
       "      <td>44.016914</td>\n",
       "      <td>1.062318e+07</td>\n",
       "    </tr>\n",
       "    <tr>\n",
       "      <th>max</th>\n",
       "      <td>79.648659</td>\n",
       "      <td>81.351578</td>\n",
       "      <td>79.648659</td>\n",
       "      <td>81.261948</td>\n",
       "      <td>47.359982</td>\n",
       "      <td>1.915498e+07</td>\n",
       "    </tr>\n",
       "  </tbody>\n",
       "</table>\n",
       "</div>"
      ],
      "text/plain": [
       "            Open       High        Low      Close  Adj Close        Volume\n",
       "count  37.000000  37.000000  37.000000  37.000000  37.000000  3.700000e+01\n",
       "mean   70.522841  71.667808  69.960855  71.052529  41.375668  8.940513e+06\n",
       "std     5.901744   5.729586   6.134976   5.853348   3.435021  3.299037e+06\n",
       "min    57.719887  59.034416  55.837715  59.034416  34.352482  2.797004e+06\n",
       "25%    66.981361  68.564774  66.443596  67.668503  39.376709  6.947323e+06\n",
       "50%    70.984703  71.582214  70.357315  70.984703  41.306427  8.207125e+06\n",
       "75%    75.555687  76.332458  75.346558  75.525810  44.016914  1.062318e+07\n",
       "max    79.648659  81.351578  79.648659  81.261948  47.359982  1.915498e+07"
      ]
     },
     "execution_count": 66,
     "metadata": {},
     "output_type": "execute_result"
    }
   ],
   "source": [
    "filtered_df = filtered_df.resample(\"B\").ffill()\n",
    "filtered_df.describe()"
   ]
  },
  {
   "cell_type": "code",
   "execution_count": 69,
   "metadata": {},
   "outputs": [
    {
     "data": {
      "text/plain": [
       "(37, 6)"
      ]
     },
     "execution_count": 69,
     "metadata": {},
     "output_type": "execute_result"
    }
   ],
   "source": [
    "filtered_df.shape"
   ]
  },
  {
   "cell_type": "code",
   "execution_count": null,
   "metadata": {},
   "outputs": [],
   "source": []
  }
 ],
 "metadata": {
  "kernelspec": {
   "display_name": "Python 3",
   "language": "python",
   "name": "python3"
  },
  "language_info": {
   "codemirror_mode": {
    "name": "ipython",
    "version": 3
   },
   "file_extension": ".py",
   "mimetype": "text/x-python",
   "name": "python",
   "nbconvert_exporter": "python",
   "pygments_lexer": "ipython3",
   "version": "3.6.9"
  }
 },
 "nbformat": 4,
 "nbformat_minor": 4
}
