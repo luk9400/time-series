{
 "cells": [
  {
   "cell_type": "code",
   "execution_count": 71,
   "metadata": {},
   "outputs": [
    {
     "data": {
      "text/html": [
       "<div>\n",
       "<style scoped>\n",
       "    .dataframe tbody tr th:only-of-type {\n",
       "        vertical-align: middle;\n",
       "    }\n",
       "\n",
       "    .dataframe tbody tr th {\n",
       "        vertical-align: top;\n",
       "    }\n",
       "\n",
       "    .dataframe thead th {\n",
       "        text-align: right;\n",
       "    }\n",
       "</style>\n",
       "<table border=\"1\" class=\"dataframe\">\n",
       "  <thead>\n",
       "    <tr style=\"text-align: right;\">\n",
       "      <th></th>\n",
       "      <th>Open</th>\n",
       "      <th>High</th>\n",
       "      <th>Low</th>\n",
       "      <th>Close</th>\n",
       "      <th>Adj Close</th>\n",
       "      <th>Volume</th>\n",
       "    </tr>\n",
       "    <tr>\n",
       "      <th>Date</th>\n",
       "      <th></th>\n",
       "      <th></th>\n",
       "      <th></th>\n",
       "      <th></th>\n",
       "      <th></th>\n",
       "      <th></th>\n",
       "    </tr>\n",
       "  </thead>\n",
       "  <tbody>\n",
       "    <tr>\n",
       "      <th>1962-01-03</th>\n",
       "      <td>7.291268</td>\n",
       "      <td>7.355003</td>\n",
       "      <td>7.291268</td>\n",
       "      <td>7.355003</td>\n",
       "      <td>1.641101</td>\n",
       "      <td>305955</td>\n",
       "    </tr>\n",
       "    <tr>\n",
       "      <th>1962-01-04</th>\n",
       "      <td>7.355003</td>\n",
       "      <td>7.355003</td>\n",
       "      <td>7.278521</td>\n",
       "      <td>7.281708</td>\n",
       "      <td>1.624746</td>\n",
       "      <td>274575</td>\n",
       "    </tr>\n",
       "    <tr>\n",
       "      <th>1962-01-05</th>\n",
       "      <td>7.272148</td>\n",
       "      <td>7.272148</td>\n",
       "      <td>7.125558</td>\n",
       "      <td>7.138305</td>\n",
       "      <td>1.592751</td>\n",
       "      <td>384405</td>\n",
       "    </tr>\n",
       "    <tr>\n",
       "      <th>1962-01-08</th>\n",
       "      <td>7.131931</td>\n",
       "      <td>7.131931</td>\n",
       "      <td>6.947100</td>\n",
       "      <td>7.004461</td>\n",
       "      <td>1.562885</td>\n",
       "      <td>572685</td>\n",
       "    </tr>\n",
       "    <tr>\n",
       "      <th>1962-01-09</th>\n",
       "      <td>7.036329</td>\n",
       "      <td>7.176546</td>\n",
       "      <td>7.036329</td>\n",
       "      <td>7.087317</td>\n",
       "      <td>1.581373</td>\n",
       "      <td>517770</td>\n",
       "    </tr>\n",
       "    <tr>\n",
       "      <th>1962-01-10</th>\n",
       "      <td>7.100064</td>\n",
       "      <td>7.131931</td>\n",
       "      <td>7.100064</td>\n",
       "      <td>7.100064</td>\n",
       "      <td>1.584218</td>\n",
       "      <td>313800</td>\n",
       "    </tr>\n",
       "    <tr>\n",
       "      <th>1962-01-11</th>\n",
       "      <td>7.119184</td>\n",
       "      <td>7.176546</td>\n",
       "      <td>7.119184</td>\n",
       "      <td>7.176546</td>\n",
       "      <td>1.601283</td>\n",
       "      <td>337335</td>\n",
       "    </tr>\n",
       "    <tr>\n",
       "      <th>1962-01-12</th>\n",
       "      <td>7.189293</td>\n",
       "      <td>7.240280</td>\n",
       "      <td>7.189293</td>\n",
       "      <td>7.189293</td>\n",
       "      <td>1.604128</td>\n",
       "      <td>462855</td>\n",
       "    </tr>\n",
       "    <tr>\n",
       "      <th>1962-01-15</th>\n",
       "      <td>7.214786</td>\n",
       "      <td>7.237094</td>\n",
       "      <td>7.214786</td>\n",
       "      <td>7.221160</td>\n",
       "      <td>1.611236</td>\n",
       "      <td>266730</td>\n",
       "    </tr>\n",
       "    <tr>\n",
       "      <th>1962-01-16</th>\n",
       "      <td>7.214786</td>\n",
       "      <td>7.214786</td>\n",
       "      <td>7.144678</td>\n",
       "      <td>7.144678</td>\n",
       "      <td>1.594172</td>\n",
       "      <td>266730</td>\n",
       "    </tr>\n",
       "  </tbody>\n",
       "</table>\n",
       "</div>"
      ],
      "text/plain": [
       "                Open      High       Low     Close  Adj Close  Volume\n",
       "Date                                                                 \n",
       "1962-01-03  7.291268  7.355003  7.291268  7.355003   1.641101  305955\n",
       "1962-01-04  7.355003  7.355003  7.278521  7.281708   1.624746  274575\n",
       "1962-01-05  7.272148  7.272148  7.125558  7.138305   1.592751  384405\n",
       "1962-01-08  7.131931  7.131931  6.947100  7.004461   1.562885  572685\n",
       "1962-01-09  7.036329  7.176546  7.036329  7.087317   1.581373  517770\n",
       "1962-01-10  7.100064  7.131931  7.100064  7.100064   1.584218  313800\n",
       "1962-01-11  7.119184  7.176546  7.119184  7.176546   1.601283  337335\n",
       "1962-01-12  7.189293  7.240280  7.189293  7.189293   1.604128  462855\n",
       "1962-01-15  7.214786  7.237094  7.214786  7.221160   1.611236  266730\n",
       "1962-01-16  7.214786  7.214786  7.144678  7.144678   1.594172  266730"
      ]
     },
     "execution_count": 71,
     "metadata": {},
     "output_type": "execute_result"
    }
   ],
   "source": [
    "import pandas as pd\n",
    "from datetime import datetime\n",
    "from sklearn.metrics import mean_squared_error\n",
    "from statsmodels.tsa.api import SimpleExpSmoothing, Holt\n",
    "\n",
    "df = pd.read_csv(\"IBM.csv\")\n",
    "df.set_index(\"Date\", inplace=True)\n",
    "df.index = pd.to_datetime(df.index, format=\"%Y-%m-%d\")\n",
    "df.head(10)"
   ]
  },
  {
   "cell_type": "code",
   "execution_count": 72,
   "metadata": {},
   "outputs": [
    {
     "data": {
      "text/plain": [
       "<matplotlib.axes._subplots.AxesSubplot at 0x7f6ddbbeb780>"
      ]
     },
     "execution_count": 72,
     "metadata": {},
     "output_type": "execute_result"
    },
    {
     "data": {
      "image/png": "[encoded data removed]",
      "text/plain": [
       "<Figure size 432x288 with 1 Axes>"
      ]
     },
     "metadata": {
      "needs_background": "light"
     },
     "output_type": "display_data"
    }
   ],
   "source": [
    "df.plot(y=\"Close\")"
   ]
  },
  {
   "cell_type": "code",
   "execution_count": 73,
   "metadata": {
    "scrolled": true
   },
   "outputs": [
    {
     "data": {
      "text/plain": [
       "<matplotlib.axes._subplots.AxesSubplot at 0x7f6dbe749a58>"
      ]
     },
     "execution_count": 73,
     "metadata": {},
     "output_type": "execute_result"
    },
    {
     "data": {
      "image/png": "[encoded data removed]",
      "text/plain": [
       "<Figure size 432x288 with 1 Axes>"
      ]
     },
     "metadata": {
      "needs_background": "light"
     },
     "output_type": "display_data"
    }
   ],
   "source": [
    "filtered_df = df[datetime(1998,10,8):datetime(1998,11,29)][\"Close\"]\n",
    "filtered_df.plot()"
   ]
  },
  {
   "cell_type": "code",
   "execution_count": 74,
   "metadata": {},
   "outputs": [
    {
     "data": {
      "text/plain": [
       "count    36.000000\n",
       "mean     70.812088\n",
       "std       5.748080\n",
       "min      59.034416\n",
       "25%      67.407090\n",
       "50%      70.954826\n",
       "75%      75.481000\n",
       "max      81.261948\n",
       "Name: Close, dtype: float64"
      ]
     },
     "execution_count": 74,
     "metadata": {},
     "output_type": "execute_result"
    }
   ],
   "source": [
    "filtered_df.describe()"
   ]
  },
  {
   "cell_type": "code",
   "execution_count": 75,
   "metadata": {},
   "outputs": [
    {
     "data": {
      "text/plain": [
       "count    37.000000\n",
       "mean     71.052529\n",
       "std       5.853348\n",
       "min      59.034416\n",
       "25%      67.668503\n",
       "50%      70.984703\n",
       "75%      75.525810\n",
       "max      81.261948\n",
       "Name: Close, dtype: float64"
      ]
     },
     "execution_count": 75,
     "metadata": {},
     "output_type": "execute_result"
    }
   ],
   "source": [
    "# there are NaNs in df after resample because stock market wasn't opened in days like Christmas, New Year's day, 9/11, etc.\n",
    "filtered_df = filtered_df.resample(\"B\").ffill()\n",
    "filtered_df.describe()"
   ]
  },
  {
   "cell_type": "code",
   "execution_count": 76,
   "metadata": {},
   "outputs": [
    {
     "data": {
      "text/plain": [
       "(37,)"
      ]
     },
     "execution_count": 76,
     "metadata": {},
     "output_type": "execute_result"
    }
   ],
   "source": [
    "filtered_df.shape"
   ]
  },
  {
   "cell_type": "code",
   "execution_count": 77,
   "metadata": {},
   "outputs": [
    {
     "data": {
      "text/plain": [
       "29"
      ]
     },
     "execution_count": 77,
     "metadata": {},
     "output_type": "execute_result"
    }
   ],
   "source": [
    "ncut = int(0.8 * filtered_df.shape[0])\n",
    "ncut"
   ]
  },
  {
   "cell_type": "code",
   "execution_count": 78,
   "metadata": {},
   "outputs": [],
   "source": [
    "train_data = filtered_df.iloc[:ncut]\n",
    "test_data = filtered_df.iloc[ncut:]"
   ]
  },
  {
   "cell_type": "code",
   "execution_count": 79,
   "metadata": {},
   "outputs": [
    {
     "data": {
      "text/plain": [
       "<matplotlib.legend.Legend at 0x7f6dbe6adcc0>"
      ]
     },
     "execution_count": 79,
     "metadata": {},
     "output_type": "execute_result"
    },
    {
     "data": {
      "image/png": "[encoded data removed]",
      "text/plain": [
       "<Figure size 432x288 with 1 Axes>"
      ]
     },
     "metadata": {
      "needs_background": "light"
     },
     "output_type": "display_data"
    }
   ],
   "source": [
    "ax = train_data.plot()\n",
    "test_data.plot(ax=ax)\n",
    "ax.legend([\"Train\", \"Test\"])"
   ]
  },
  {
   "cell_type": "code",
   "execution_count": 80,
   "metadata": {},
   "outputs": [],
   "source": [
    "fit_holt = Holt(train_data, initialization_method=\"estimated\", exponential=True).fit()\n",
    "fcast_holt = fit_holt.forecast(test_data.shape[0])\n",
    "\n",
    "fit_ses = SimpleExpSmoothing(train_data, initialization_method=\"estimated\").fit()\n",
    "fcast_ses = fit_ses.forecast(test_data.shape[0])\n"
   ]
  },
  {
   "cell_type": "code",
   "execution_count": 81,
   "metadata": {},
   "outputs": [
    {
     "data": {
      "text/plain": [
       "<matplotlib.legend.Legend at 0x7f6dc04b8978>"
      ]
     },
     "execution_count": 81,
     "metadata": {},
     "output_type": "execute_result"
    },
    {
     "data": {
      "image/png": "[encoded data removed]",
      "text/plain": [
       "<Figure size 432x288 with 1 Axes>"
      ]
     },
     "metadata": {
      "needs_background": "light"
     },
     "output_type": "display_data"
    }
   ],
   "source": [
    "ax = train_data.plot()\n",
    "test_data.plot(ax=ax)\n",
    "fcast_holt.plot(ax=ax)\n",
    "fcast_ses.plot(ax=ax)\n",
    "ax.legend([\"Train\", \"Test\", \"Holt\", \"SES\"])\n",
    "\n"
   ]
  },
  {
   "cell_type": "code",
   "execution_count": 83,
   "metadata": {},
   "outputs": [
    {
     "name": "stdout",
     "output_type": "stream",
     "text": [
      "Holt's MSE: 0.7308889845330764 vs SES MSE: 12.248369237952858\n"
     ]
    }
   ],
   "source": [
    "mse_holt =  mean_squared_error(test_data, fcast_holt)\n",
    "mse_ses = mean_squared_error(test_data, fcast_ses)\n",
    "print(f\"Holt's MSE: {mse_holt} vs SES MSE: {mse_ses}\")"
   ]
  }
 ],
 "metadata": {
  "kernelspec": {
   "display_name": "Python 3",
   "language": "python",
   "name": "python3"
  },
  "language_info": {
   "codemirror_mode": {
    "name": "ipython",
    "version": 3
   },
   "file_extension": ".py",
   "mimetype": "text/x-python",
   "name": "python",
   "nbconvert_exporter": "python",
   "pygments_lexer": "ipython3",
   "version": "3.6.9"
  }
 },
 "nbformat": 4,
 "nbformat_minor": 4
}
